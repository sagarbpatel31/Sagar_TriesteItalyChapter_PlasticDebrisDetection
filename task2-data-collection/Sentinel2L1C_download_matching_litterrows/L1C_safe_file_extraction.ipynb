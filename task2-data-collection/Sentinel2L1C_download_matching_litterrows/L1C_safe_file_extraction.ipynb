{
 "cells": [
  {
   "cell_type": "markdown",
   "id": "5d2aeb28",
   "metadata": {},
   "source": [
    "# Import required packages"
   ]
  },
  {
   "cell_type": "code",
   "execution_count": 1,
   "id": "cde5776e",
   "metadata": {},
   "outputs": [],
   "source": [
    "import os\n",
    "import sys\n",
    "import pandas as pd\n",
    "import requests\n",
    "import json\n",
    "from datetime import datetime, date\n",
    "from tqdm import tqdm\n",
    "from dotenv import load_dotenv\n"
   ]
  },
  {
   "cell_type": "markdown",
   "id": "99de16ba",
   "metadata": {},
   "source": [
    "# Credentials & Token"
   ]
  },
  {
   "cell_type": "markdown",
   "id": "93240322",
   "metadata": {},
   "source": [
    "Save your cdse log in credentials to the .env file as:\n",
    "CDSE_email = \"your_email\"\n",
    "CDSE_password = \"your_password\""
   ]
  },
  {
   "cell_type": "code",
   "execution_count": 2,
   "id": "445f475b",
   "metadata": {},
   "outputs": [],
   "source": [
    "load_dotenv()\n",
    "username=os.getenv(\"CDSE_email\")\n",
    "password=os.getenv(\"CDSE_password\")\n",
    "\n",
    "# check that the credentials are set correctly \n",
    "if not password or not username:\n",
    "    print(\"Please provide your Sentinel Hub credentials in the .env file.\")\n",
    "    exit(1)"
   ]
  },
  {
   "cell_type": "code",
   "execution_count": 3,
   "id": "12d67983",
   "metadata": {},
   "outputs": [],
   "source": [
    "def get_access_token(username: str, password: str) -> str:\n",
    "    data = {\n",
    "        \"client_id\": \"cdse-public\",\n",
    "        \"username\":username,\n",
    "        \"password\":password,\n",
    "        \"grant_type\": \"password\",\n",
    "        }\n",
    "    try:\n",
    "        r = requests.post(\n",
    "            \"https://identity.dataspace.copernicus.eu/auth/realms/CDSE/protocol/openid-connect/token\",\n",
    "            data=data,\n",
    "        )\n",
    "        r.raise_for_status()\n",
    "    except Exception as e:\n",
    "        raise Exception(\n",
    "            f\"Access token creation failed. Reponse from the server was: {r.json()}\"\n",
    "            )\n",
    "    print(\"Access token created successfully!\")\n",
    "    return r.json()[\"access_token\"]"
   ]
  },
  {
   "cell_type": "code",
   "execution_count": 4,
   "id": "2bd792fa",
   "metadata": {},
   "outputs": [
    {
     "name": "stdout",
     "output_type": "stream",
     "text": [
      "Access token created successfully!\n"
     ]
    }
   ],
   "source": [
    "# Get access token\n",
    "token = get_access_token(username, password)"
   ]
  },
  {
   "cell_type": "markdown",
   "id": "f4217af9",
   "metadata": {},
   "source": [
    "# Set Search Criteria"
   ]
  },
  {
   "cell_type": "code",
   "execution_count": 5,
   "id": "2ebd7c94",
   "metadata": {},
   "outputs": [],
   "source": [
    "data_collection = \"SENTINEL-2\"\n",
    "bbox = [12.45, 44.825, 12.7, 45.055]    # Po River\n",
    "#bbox = [9.6, 42.95, 9.9, 43.155]       # North East Corsica\n",
    "#bbox = [16.5, 38.35, 16.755, 38.555]   # South East Calabria\n",
    "start_date =  \"2019-07-26\"\n",
    "end_date = \"2019-07-31\"\n",
    "output_dir = \"../data/SAFE\""
   ]
  },
  {
   "cell_type": "code",
   "execution_count": null,
   "id": "ad1954ee",
   "metadata": {},
   "outputs": [],
   "source": [
    "https://catalogue.dataspace.copernicus.eu/odata/v1/Products?$filter=Collection/Name eq 'CCM' and OData.CSC.Intersects(area=geography'SRID=4326;POLYGON((12.655118166047592 47.44667197521409,21.39065656328509 48.347694733853245,28.334291357162826 41.877123516783655,17.47086198383573 40.35854475076158,12.655118166047592 47.44667197521409))')&$top=20"
   ]
  },
  {
   "cell_type": "code",
   "execution_count": null,
   "id": "eac6bed4",
   "metadata": {},
   "outputs": [],
   "source": [
    "def get_url(data_collection, bbox, start_date, end_date, token):\n",
    "  cloud_cover = 20\n",
    "  requests.get(\n",
    "    f\"https://catalogue.dataspace.copernicus.eu/odata/v1/Products?$filter=Collection/Name eq '{data_collection}' \"  \n",
    "    f\"and OData.CSC.Intersects(area=geography'SRID=4326;{bbox}) \"  \n",
    "    f\"and ContentDate/Start ge {start_date}T00:00:00.000Z and ContentDate/Start le {end_date}T00:00:00.000Z \"  \n",
    "    f\"and Attributes/OData.CSC.DoubleAttribute/any(att:att/Name eq 'cloudCover' and att/OData.CSC.DoubleAttribute/Value lt {cloud_cover}) \"  \n",
    "    f\"and Attributes/OData.CSC.StringAttribute/any(att:att/Name eq 'productType' and att/OData.CSC.StringAttribute/Value eq 'productType' and att/Value eq 'S2MSI1C')\",\n",
    "    headers=headers ).json()\n",
    "  \n",
    "  headers = {\"Authorization\": f\"Bearer {token}\"}\n",
    "  response = requests.get(url, headers=headers)\n",
    "\n",
    "  response.raise_for_status()\n",
    "  \n",
    "  print(\"Query URL:\", url)\n",
    "  return response.json()"
   ]
  },
  {
   "cell_type": "code",
   "execution_count": 13,
   "id": "a760c602",
   "metadata": {},
   "outputs": [
    {
     "name": "stdout",
     "output_type": "stream",
     "text": [
      "https://catalogue.dataspace.copernicus.eu/odata/v1/Products?$filter=Collection/Name eq'SENTINEL-2' and OData.CSC.Intersects(area=geography'SRID=4326;POLYGON((12.45 44.825,12.7 44.825,12.7 45.055,12.45 45.055,12.45 44.825'))') and ContentDate/Start gt 2019-07-26T00:00:00.000Z and ContentDate/Start lt 2019-07-31T00:00:00.000Z)\n"
     ]
    }
   ],
   "source": [
    "url = (\n",
    "f\"https://catalogue.dataspace.copernicus.eu/odata/v1/Products?\"\n",
    "f\"$filter=Collection/Name eq'{data_collection}' and \"\n",
    "f\"OData.CSC.Intersects(area=geography'SRID=4326;\"\n",
    "f\"POLYGON(({str(bbox[0]) + \" \" + str(bbox[1]) + \",\" + str(bbox[2]) + \" \" + str(bbox[1]) + \",\" + str(bbox[2]) + \" \" + str(bbox[3]) + \",\"  + str(bbox[0]) + \" \" + str(bbox[3]) + \",\" + str(bbox[0]) + \" \" + str(bbox[1])}'))') and \"\n",
    "f\"ContentDate/Start gt {start_date}T00:00:00.000Z and \"\n",
    "f\"ContentDate/Start lt {end_date}T00:00:00.000Z)\"\n",
    ")\n",
    "print(url)"
   ]
  },
  {
   "cell_type": "code",
   "execution_count": 18,
   "id": "0cf120d8",
   "metadata": {},
   "outputs": [],
   "source": [
    "def download_product(token, product_id, output_path):\n",
    "    url = f\"https://zipper.dataspace.copernicus.eu/odata/v1/Products({product_id})/$value\"\n",
    "    headers = {\"Authorization\": f\"Bearer {token}\"}\n",
    "    session = requests.Session()\n",
    "    session.headers.update(headers)\n",
    "\n",
    "    response = session.get(url, allow_redirects=False)\n",
    "    while response.status_code in (301, 302, 303, 307):\n",
    "        url = response.headers[\"Location\"]\n",
    "        response = session.get(url, allow_redirects=False)\n",
    "\n",
    "    final_response = session.get(url, stream=True)\n",
    "    final_response.raise_for_status()\n",
    "\n",
    "    with open(output_path, \"wb\") as f:\n",
    "        for chunk in final_response.iter_content(chunk_size=8192):\n",
    "            f.write(chunk)\n",
    "    print(f\"Downloaded to {output_path}\")"
   ]
  },
  {
   "cell_type": "markdown",
   "id": "9f75b662",
   "metadata": {},
   "source": [
    "# run download"
   ]
  },
  {
   "cell_type": "code",
   "execution_count": 19,
   "id": "e0382180",
   "metadata": {},
   "outputs": [
    {
     "ename": "HTTPError",
     "evalue": "403 Client Error: Forbidden for url: https://catalogue.dataspace.copernicus.eu/odata/v1/Products?$filter=Collection/Name%20eq'SENTINEL-2'%20and%20OData.CSC.Intersects(area=geography'SRID=4326;POLYGON((12.45%2044.825,12.7%2044.825,12.7%2045.055,12.45%2045.055,12.45%2044.825'))')%20and%20ContentDate/Start%20gt%202019-07-26T00:00:00.000Z%20and%20ContentDate/Start%20lt%202019-07-31T00:00:00.000Z)&$top=20",
     "output_type": "error",
     "traceback": [
      "\u001b[31m---------------------------------------------------------------------------\u001b[39m",
      "\u001b[31mHTTPError\u001b[39m                                 Traceback (most recent call last)",
      "\u001b[36mCell\u001b[39m\u001b[36m \u001b[39m\u001b[32mIn[19]\u001b[39m\u001b[32m, line 1\u001b[39m\n\u001b[32m----> \u001b[39m\u001b[32m1\u001b[39m result = \u001b[43mget_url\u001b[49m\u001b[43m(\u001b[49m\u001b[43mdata_collection\u001b[49m\u001b[43m,\u001b[49m\u001b[43m \u001b[49m\u001b[43mbbox\u001b[49m\u001b[43m,\u001b[49m\u001b[43m \u001b[49m\u001b[43mstart_date\u001b[49m\u001b[43m,\u001b[49m\u001b[43m \u001b[49m\u001b[43mend_date\u001b[49m\u001b[43m,\u001b[49m\u001b[43m \u001b[49m\u001b[43mtoken\u001b[49m\u001b[43m)\u001b[49m\n\u001b[32m      2\u001b[39m \u001b[38;5;28mprint\u001b[39m(\u001b[33m\"\u001b[39m\u001b[33mFull API response:\u001b[39m\u001b[33m\"\u001b[39m, result)\n\u001b[32m      3\u001b[39m \u001b[38;5;28;01mif\u001b[39;00m \u001b[38;5;129;01mnot\u001b[39;00m result[\u001b[33m\"\u001b[39m\u001b[33mvalue\u001b[39m\u001b[33m\"\u001b[39m]:\n",
      "\u001b[36mCell\u001b[39m\u001b[36m \u001b[39m\u001b[32mIn[17]\u001b[39m\u001b[32m, line 13\u001b[39m, in \u001b[36mget_url\u001b[39m\u001b[34m(data_collection, bbox, start_date, end_date, token)\u001b[39m\n\u001b[32m     10\u001b[39m headers = {\u001b[33m\"\u001b[39m\u001b[33mAuthorization\u001b[39m\u001b[33m\"\u001b[39m: \u001b[33mf\u001b[39m\u001b[33m\"\u001b[39m\u001b[33mBearer \u001b[39m\u001b[38;5;132;01m{\u001b[39;00mtoken\u001b[38;5;132;01m}\u001b[39;00m\u001b[33m\"\u001b[39m}\n\u001b[32m     11\u001b[39m response = requests.get(url.replace(\u001b[33m\"\u001b[39m\u001b[33m%\u001b[39m\u001b[33m20\u001b[39m\u001b[33m\"\u001b[39m, \u001b[33m\"\u001b[39m\u001b[33m \u001b[39m\u001b[33m\"\u001b[39m), headers=headers)\n\u001b[32m---> \u001b[39m\u001b[32m13\u001b[39m \u001b[43mresponse\u001b[49m\u001b[43m.\u001b[49m\u001b[43mraise_for_status\u001b[49m\u001b[43m(\u001b[49m\u001b[43m)\u001b[49m\n\u001b[32m     15\u001b[39m \u001b[38;5;28mprint\u001b[39m(\u001b[33m\"\u001b[39m\u001b[33mQuery URL:\u001b[39m\u001b[33m\"\u001b[39m, url)\n\u001b[32m     16\u001b[39m \u001b[38;5;28;01mreturn\u001b[39;00m response.json()\n",
      "\u001b[36mFile \u001b[39m\u001b[32m~/Desktop/projects/plastic_detection/Sentinel2PlasticDetectionProject/omdena/lib/python3.13/site-packages/requests/models.py:1024\u001b[39m, in \u001b[36mResponse.raise_for_status\u001b[39m\u001b[34m(self)\u001b[39m\n\u001b[32m   1019\u001b[39m     http_error_msg = (\n\u001b[32m   1020\u001b[39m         \u001b[33mf\u001b[39m\u001b[33m\"\u001b[39m\u001b[38;5;132;01m{\u001b[39;00m\u001b[38;5;28mself\u001b[39m.status_code\u001b[38;5;132;01m}\u001b[39;00m\u001b[33m Server Error: \u001b[39m\u001b[38;5;132;01m{\u001b[39;00mreason\u001b[38;5;132;01m}\u001b[39;00m\u001b[33m for url: \u001b[39m\u001b[38;5;132;01m{\u001b[39;00m\u001b[38;5;28mself\u001b[39m.url\u001b[38;5;132;01m}\u001b[39;00m\u001b[33m\"\u001b[39m\n\u001b[32m   1021\u001b[39m     )\n\u001b[32m   1023\u001b[39m \u001b[38;5;28;01mif\u001b[39;00m http_error_msg:\n\u001b[32m-> \u001b[39m\u001b[32m1024\u001b[39m     \u001b[38;5;28;01mraise\u001b[39;00m HTTPError(http_error_msg, response=\u001b[38;5;28mself\u001b[39m)\n",
      "\u001b[31mHTTPError\u001b[39m: 403 Client Error: Forbidden for url: https://catalogue.dataspace.copernicus.eu/odata/v1/Products?$filter=Collection/Name%20eq'SENTINEL-2'%20and%20OData.CSC.Intersects(area=geography'SRID=4326;POLYGON((12.45%2044.825,12.7%2044.825,12.7%2045.055,12.45%2045.055,12.45%2044.825'))')%20and%20ContentDate/Start%20gt%202019-07-26T00:00:00.000Z%20and%20ContentDate/Start%20lt%202019-07-31T00:00:00.000Z)&$top=20"
     ]
    }
   ],
   "source": [
    "result = get_url(data_collection, bbox, start_date, end_date, token)\n",
    "print(\"Full API response:\", result)\n",
    "if not result[\"value\"]:\n",
    "    print(\"No Sentinel-2 L1C products found for the specified criteria.\")\n",
    "    exit()\n",
    "\n",
    "product = result[\"value\"][0]\n",
    "product_id = product[\"Id\"]\n",
    "product_name = product[\"Name\"]\n",
    "output_zip = f\"{product_name}.zip\"\n",
    "\n",
    "# Download the product\n",
    "download_product(token, product_id, output_zip)\n"
   ]
  },
  {
   "cell_type": "markdown",
   "id": "cecaf657",
   "metadata": {},
   "source": [
    "# Iterate (just notes)"
   ]
  },
  {
   "cell_type": "code",
   "execution_count": 6,
   "id": "a50efe53",
   "metadata": {},
   "outputs": [
    {
     "ename": "SyntaxError",
     "evalue": "'return' outside function (1571520283.py, line 9)",
     "output_type": "error",
     "traceback": [
      "  \u001b[36mCell\u001b[39m\u001b[36m \u001b[39m\u001b[32mIn[6]\u001b[39m\u001b[32m, line 9\u001b[39m\n\u001b[31m    \u001b[39m\u001b[31mreturn http_rs\u001b[39m\n    ^\n\u001b[31mSyntaxError\u001b[39m\u001b[31m:\u001b[39m 'return' outside function\n"
     ]
    }
   ],
   "source": [
    "http_rs = [] \n",
    "for i in matching_ids:\n",
    "    \n",
    "    satellite = \"Sentinel-2\"\n",
    "    contains = \"S2MSI1C\"\n",
    "    contains2 = i['id'][11:26]\n",
    "    http_request = get_https_request(satellite, contains, start_date, end_date)\n",
    "    http_rs.append(http_request)\n",
    "    return http_rs"
   ]
  },
  {
   "cell_type": "code",
   "execution_count": null,
   "id": "f3c7aba8",
   "metadata": {},
   "outputs": [
    {
     "data": {
      "text/plain": [
       "3977"
      ]
     },
     "execution_count": 24,
     "metadata": {},
     "output_type": "execute_result"
    }
   ],
   "source": [
    "# Load the CSV file\n",
    "matched_products_df = pd.read_csv(\"../matched_s2_products.csv\")\n",
    "unique_products_df = matched_products_df.drop_duplicates(subset=\"product_id\")\n",
    "\n",
    "# Create the dictionary\n",
    "filter_products_dict = {\n",
    "    \"Name\" : [{product_id} for product_id in unique_products_df[\"product_id\"]]\n",
    "}\n",
    "\n",
    "len(filter_products_dict[\"Name\"])"
   ]
  },
  {
   "cell_type": "markdown",
   "id": "881f02a3",
   "metadata": {},
   "source": [
    "can also search by product name (see [docs](https://documentation.dataspace.copernicus.eu/APIs/OData.html)), but two issues:\n",
    "- matched_s2_products has 3977 tiles, s2_product_unique has 4472 (but outdated N0XXX in product name),\n",
    "i.e. needs to be limited spatially/temporally at minimum\n",
    "- need to change functions to deal with iterating through dict values "
   ]
  },
  {
   "cell_type": "markdown",
   "id": "0c0c26c1",
   "metadata": {},
   "source": [
    "possible accepted url options:"
   ]
  },
  {
   "cell_type": "raw",
   "id": "6c3a15a9",
   "metadata": {
    "vscode": {
     "languageId": "raw"
    }
   },
   "source": [
    "https://catalogue.dataspace.copernicus.eu/odata/v1/Products?$filter=startswith(Name,%20%27S2B_MSIL2A_20250206T101109_N0511_R022_T33TUM_20250206T122414%27)\n",
    "\n",
    "or\n",
    "\n",
    "https://catalogue.dataspace.copernicus.eu/odata/v1/Products?$filter=Collection/Name%20eq%20%27SENTINEL-2%27%20and%20startswith(Name,%20%27S2B_MSIL2A_20250206T101109_N0511_R022_T33TUM_20250206T122414%27)"
   ]
  },
  {
   "cell_type": "code",
   "execution_count": null,
   "id": "278aa0e2",
   "metadata": {},
   "outputs": [],
   "source": [
    "filter_products_dict.keys()\n",
    "filter_products_dict.values()"
   ]
  },
  {
   "cell_type": "code",
   "execution_count": null,
   "id": "8930746e",
   "metadata": {},
   "outputs": [],
   "source": [
    "\n",
    "satellite = \"Sentinel-2\"\n",
    "contains = \"L1C\"\n",
    "contains2 = \"T32TQQ\"    # option to be replaced with unique tiles or strtime iterating through \n",
    "                        # litter rows csv within matching_ids, i.e. iterated over"
   ]
  }
 ],
 "metadata": {
  "kernelspec": {
   "display_name": "omdena",
   "language": "python",
   "name": "python3"
  },
  "language_info": {
   "codemirror_mode": {
    "name": "ipython",
    "version": 3
   },
   "file_extension": ".py",
   "mimetype": "text/x-python",
   "name": "python",
   "nbconvert_exporter": "python",
   "pygments_lexer": "ipython3",
   "version": "3.13.1"
  }
 },
 "nbformat": 4,
 "nbformat_minor": 5
}
