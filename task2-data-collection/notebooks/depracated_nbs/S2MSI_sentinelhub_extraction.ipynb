{
 "cells": [
  {
   "cell_type": "markdown",
   "metadata": {},
   "source": [
    "# Accessing Multisprectral Satellite Imagery from Copernicus Data Space Ecosystem with Sentinel Hub API"
   ]
  },
  {
   "cell_type": "code",
   "execution_count": 1,
   "metadata": {},
   "outputs": [],
   "source": [
    "### poss necessary: %pip install sentinelhub[AWS]\n"
   ]
  },
  {
   "cell_type": "markdown",
   "metadata": {},
   "source": [
    "The Sentinel Hub API is a RESTful API interface that provides access to various satellite imagery archives. It allows you to access raw satellite data, rendered images, statistical analysis, and other features. \n",
    "\n",
    "To use the features in this notebook you need to visit https://dataspace.copernicus.eu and create an account with Copernicus, the official governing body of Sentinel Missions for the European Space Agency (ESA)."
   ]
  },
  {
   "cell_type": "code",
   "execution_count": 2,
   "metadata": {},
   "outputs": [
    {
     "name": "stderr",
     "output_type": "stream",
     "text": [
      "/Users/sara_mac/Desktop/projects/plastic_detection/Sentinel2PlasticDetectionProject/omdena/lib/python3.13/site-packages/tqdm/auto.py:21: TqdmWarning: IProgress not found. Please update jupyter and ipywidgets. See https://ipywidgets.readthedocs.io/en/stable/user_install.html\n",
      "  from .autonotebook import tqdm as notebook_tqdm\n"
     ]
    }
   ],
   "source": [
    "import os\n",
    "from sentinelhub import (SHConfig,\n",
    "    DataCollection,\n",
    "    SentinelHubCatalog,\n",
    "    SentinelHubRequest,\n",
    "    SentinelHubStatistical,\n",
    "    BBox,\n",
    "    bbox_to_dimensions,\n",
    "    CRS,\n",
    "    MimeType,\n",
    "    Geometry,\n",
    ")\n",
    "from dotenv import load_dotenv\n",
    "import requests_oauthlib as requests\n",
    "import matplotlib.pyplot as plt\n",
    "import numpy as np\n",
    "import datetime \n",
    "import pandas as pd\n",
    "import tqdm"
   ]
  },
  {
   "cell_type": "markdown",
   "metadata": {},
   "source": [
    "# Credentials\n",
    "\n",
    "Credentials for Sentinel Hub services (`client_id` & `client_secret`) can be obtained in your [Dashboard](https://shapps.dataspace.copernicus.eu/dashboard/#/). In the User Settings you can create a new OAuth Client to generate these credentials. For more detailed instructions, visit the relevant [documentation page](https://documentation.dataspace.copernicus.eu/APIs/SentinelHub/Overview/Authentication.html).\n",
    "\n",
    "Now that you have your `client_id` & `client_secret`,  you can proceed from here. "
   ]
  },
  {
   "cell_type": "code",
   "execution_count": 3,
   "metadata": {},
   "outputs": [
    {
     "data": {
      "text/plain": [
       "'/Users/sara_mac/.config/sentinelhub/config.toml'"
      ]
     },
     "execution_count": 3,
     "metadata": {},
     "output_type": "execute_result"
    }
   ],
   "source": [
    "SHConfig.get_config_location()"
   ]
  },
  {
   "cell_type": "code",
   "execution_count": 9,
   "metadata": {},
   "outputs": [
    {
     "ename": "TOMLDecodeError",
     "evalue": "Expected newline or end of document after a statement (at line 3, column 53)",
     "output_type": "error",
     "traceback": [
      "\u001b[31m---------------------------------------------------------------------------\u001b[39m",
      "\u001b[31mTOMLDecodeError\u001b[39m                           Traceback (most recent call last)",
      "\u001b[36mCell\u001b[39m\u001b[36m \u001b[39m\u001b[32mIn[9]\u001b[39m\u001b[32m, line 2\u001b[39m\n\u001b[32m      1\u001b[39m \u001b[38;5;66;03m# Display the existing configuration\u001b[39;00m\n\u001b[32m----> \u001b[39m\u001b[32m2\u001b[39m config = \u001b[43mSHConfig\u001b[49m\u001b[43m(\u001b[49m\u001b[43m)\u001b[49m\n\u001b[32m      3\u001b[39m config\n",
      "\u001b[36mFile \u001b[39m\u001b[32m~/Desktop/projects/plastic_detection/Sentinel2PlasticDetectionProject/omdena/lib/python3.13/site-packages/sentinelhub/config.py:129\u001b[39m, in \u001b[36mSHConfig.__init__\u001b[39m\u001b[34m(self, profile, use_defaults, **kwargs)\u001b[39m\n\u001b[32m    126\u001b[39m     env_kwargs = {k: v \u001b[38;5;28;01mfor\u001b[39;00m k, v \u001b[38;5;129;01min\u001b[39;00m env_kwargs.items() \u001b[38;5;28;01mif\u001b[39;00m v \u001b[38;5;129;01mis\u001b[39;00m \u001b[38;5;129;01mnot\u001b[39;00m \u001b[38;5;28;01mNone\u001b[39;00m}\n\u001b[32m    128\u001b[39m     \u001b[38;5;66;03m# load from config.toml\u001b[39;00m\n\u001b[32m--> \u001b[39m\u001b[32m129\u001b[39m     loaded_kwargs = \u001b[43mSHConfig\u001b[49m\u001b[43m.\u001b[49m\u001b[43mload\u001b[49m\u001b[43m(\u001b[49m\u001b[43mprofile\u001b[49m\u001b[43m=\u001b[49m\u001b[43mprofile\u001b[49m\u001b[43m)\u001b[49m.to_dict(mask_credentials=\u001b[38;5;28;01mFalse\u001b[39;00m)\n\u001b[32m    131\u001b[39m     kwargs = {**loaded_kwargs, **env_kwargs, **kwargs}  \u001b[38;5;66;03m# precedence: init params > env > loaded\u001b[39;00m\n\u001b[32m    133\u001b[39m \u001b[38;5;28msuper\u001b[39m().\u001b[34m__init__\u001b[39m(**kwargs)\n",
      "\u001b[36mFile \u001b[39m\u001b[32m~/Desktop/projects/plastic_detection/Sentinel2PlasticDetectionProject/omdena/lib/python3.13/site-packages/sentinelhub/config.py:161\u001b[39m, in \u001b[36mSHConfig.load\u001b[39m\u001b[34m(cls, profile)\u001b[39m\n\u001b[32m    158\u001b[39m     \u001b[38;5;28mcls\u001b[39m(use_defaults=\u001b[38;5;28;01mTrue\u001b[39;00m).save()  \u001b[38;5;66;03m# store default configuration to standard location\u001b[39;00m\n\u001b[32m    160\u001b[39m \u001b[38;5;28;01mwith\u001b[39;00m \u001b[38;5;28mopen\u001b[39m(filename, \u001b[33m\"\u001b[39m\u001b[33mrb\u001b[39m\u001b[33m\"\u001b[39m) \u001b[38;5;28;01mas\u001b[39;00m cfg_file:\n\u001b[32m--> \u001b[39m\u001b[32m161\u001b[39m     configurations_dict = \u001b[43mtomli\u001b[49m\u001b[43m.\u001b[49m\u001b[43mload\u001b[49m\u001b[43m(\u001b[49m\u001b[43mcfg_file\u001b[49m\u001b[43m)\u001b[49m\n\u001b[32m    163\u001b[39m \u001b[38;5;28;01mif\u001b[39;00m profile \u001b[38;5;129;01mnot\u001b[39;00m \u001b[38;5;129;01min\u001b[39;00m configurations_dict:\n\u001b[32m    164\u001b[39m     \u001b[38;5;28;01mraise\u001b[39;00m \u001b[38;5;167;01mKeyError\u001b[39;00m(\u001b[33mf\u001b[39m\u001b[33m\"\u001b[39m\u001b[33mProfile `\u001b[39m\u001b[38;5;132;01m{\u001b[39;00mprofile\u001b[38;5;132;01m}\u001b[39;00m\u001b[33m` not found in configuration file.\u001b[39m\u001b[33m\"\u001b[39m)\n",
      "\u001b[36mFile \u001b[39m\u001b[32msrc/tomli/_parser.py:139\u001b[39m, in \u001b[36mload\u001b[39m\u001b[34m()\u001b[39m\n",
      "\u001b[36mFile \u001b[39m\u001b[32msrc/tomli/_parser.py:205\u001b[39m, in \u001b[36mloads\u001b[39m\u001b[34m()\u001b[39m\n",
      "\u001b[31mTOMLDecodeError\u001b[39m: Expected newline or end of document after a statement (at line 3, column 53)"
     ]
    }
   ],
   "source": [
    "# Display the existing configuration\n",
    "config = SHConfig()\n",
    "config"
   ]
  },
  {
   "cell_type": "code",
   "execution_count": null,
   "metadata": {},
   "outputs": [],
   "source": [
    "# You need to replace the client ID and secret with your own credentials in your .env file\n",
    "# in the same directory as this script, by simply inserting the following lines:\n",
    "# CLIENT_ID= \"your_client_id\"\n",
    "# CLIENT_SECRET= \"your_client_secret\"\n",
    "# TOKEN_URL= \"https://your_token_url\"\n",
    "# BASE_URL= \"https://your_base_url\"\n",
    "\n",
    "load_dotenv() \n",
    "config = SHConfig()\n",
    "config.sh_client_id = os.getenv(\"CLIENT_ID\")\n",
    "config.sh_client_secret = os.getenv(\"CLIENT_SECRET\")\n",
    "config.sh_token_url = os.getenv(\"TOKEN_URL\")\n",
    "config.sh_base_url = os.getenv(\"BASE_URL\")\n"
   ]
  },
  {
   "cell_type": "code",
   "execution_count": null,
   "metadata": {},
   "outputs": [],
   "source": [
    "# check that the credentials are set correctly \n",
    "if not config.sh_client_id or not config.sh_client_secret:\n",
    "    print(\"Please provide your Sentinel Hub credentials in the .env file.\")\n",
    "    exit(1)\n",
    "\n",
    "# check that the credentials are what you expect (i.e. output is the same & not None)\n",
    "# NOTE: you can also set the credentials directly in the code, \n",
    "# but this is not recommended for security reasons.\n",
    "# do not print the secret credentials 'id' or 'secret' in a public notebook for security reasons either\n",
    "print(os.getenv(\"TOKEN_URL\"))   \n",
    "print(os.getenv(\"BASE_URL\"))"
   ]
  },
  {
   "cell_type": "markdown",
   "metadata": {},
   "source": [
    "Instructions on how to configure your Sentinel Hub Python package can be found [here](https://sentinelhub-py.readthedocs.io/en/latest/configure.html). Using these instructions you can create a profile specific to using the package for accessing Copernicus Data Space Ecosystem data collections. This is useful as changes to the the config class are usually only temporary in your notebook and by saving the configuration to your profile you won't need to generate new credentials or overwrite/change the default profile each time you rerun or write a new Jupyter Notebook. "
   ]
  },
  {
   "cell_type": "code",
   "execution_count": null,
   "metadata": {},
   "outputs": [],
   "source": [
    "#Po River \n",
    "AOI = 'Po River Plume'\n",
    "aoi_coords_wgs84 = [12.24, 44.66, 12.0, 45.077] "
   ]
  },
  {
   "cell_type": "code",
   "execution_count": null,
   "metadata": {},
   "outputs": [
    {
     "name": "stdout",
     "output_type": "stream",
     "text": [
      "Image shape at 10 m resolution: (2060, 4565) pixels\n"
     ]
    }
   ],
   "source": [
    "resolution = 10\n",
    "aoi_bbox = BBox(bbox=aoi_coords_wgs84, crs=CRS.WGS84)\n",
    "aoi_size = bbox_to_dimensions(aoi_bbox, resolution=resolution)\n",
    "print(f\"Image shape at {resolution} m resolution: {aoi_size} pixels\")"
   ]
  },
  {
   "cell_type": "code",
   "execution_count": null,
   "metadata": {},
   "outputs": [],
   "source": [
    "catalog = SentinelHubCatalog(config=config)"
   ]
  },
  {
   "cell_type": "code",
   "execution_count": null,
   "metadata": {},
   "outputs": [
    {
     "name": "stdout",
     "output_type": "stream",
     "text": [
      "Total number of results: 24\n"
     ]
    },
    {
     "data": {
      "text/plain": [
       "[{'id': 'S2A_MSIL1C_20190730T100031_N0500_R122_T32TQQ_20230710T202111.SAFE',\n",
       "  'properties': {'datetime': '2019-07-30T10:08:32.85Z'}},\n",
       " {'id': 'S2A_MSIL1C_20190730T100031_N0500_R122_T32TQR_20230710T202111.SAFE',\n",
       "  'properties': {'datetime': '2019-07-30T10:08:17.911Z'}},\n",
       " {'id': 'S2B_MSIL1C_20190728T101029_N0500_R022_T32TQQ_20230710T194856.SAFE',\n",
       "  'properties': {'datetime': '2019-07-28T10:18:33.245Z'}},\n",
       " {'id': 'S2B_MSIL1C_20190728T101029_N0500_R022_T32TQR_20230710T194856.SAFE',\n",
       "  'properties': {'datetime': '2019-07-28T10:18:18.692Z'}},\n",
       " {'id': 'S2B_MSIL1C_20190725T100039_N0500_R122_T32TQQ_20230619T024542.SAFE',\n",
       "  'properties': {'datetime': '2019-07-25T10:08:36.543Z'}},\n",
       " {'id': 'S2B_MSIL1C_20190725T100039_N0500_R122_T32TQR_20230619T024542.SAFE',\n",
       "  'properties': {'datetime': '2019-07-25T10:08:21.601Z'}},\n",
       " {'id': 'S2A_MSIL1C_20190723T101031_N0500_R022_T32TQQ_20230718T015529.SAFE',\n",
       "  'properties': {'datetime': '2019-07-23T10:18:30.071Z'}},\n",
       " {'id': 'S2A_MSIL1C_20190723T101031_N0500_R022_T32TQR_20230718T015529.SAFE',\n",
       "  'properties': {'datetime': '2019-07-23T10:18:15.519Z'}},\n",
       " {'id': 'S2A_MSIL1C_20190720T100031_N0500_R122_T32TQQ_20230715T235221.SAFE',\n",
       "  'properties': {'datetime': '2019-07-20T10:08:33.27Z'}},\n",
       " {'id': 'S2A_MSIL1C_20190720T100031_N0500_R122_T32TQR_20230715T235221.SAFE',\n",
       "  'properties': {'datetime': '2019-07-20T10:08:18.325Z'}},\n",
       " {'id': 'S2B_MSIL1C_20190718T101039_N0500_R022_T32TQQ_20230806T134626.SAFE',\n",
       "  'properties': {'datetime': '2019-07-18T10:18:32.983Z'}},\n",
       " {'id': 'S2B_MSIL1C_20190718T101039_N0500_R022_T32TQR_20230806T134626.SAFE',\n",
       "  'properties': {'datetime': '2019-07-18T10:18:19.213Z'}},\n",
       " {'id': 'S2B_MSIL1C_20190715T100039_N0500_R122_T32TQQ_20230722T035607.SAFE',\n",
       "  'properties': {'datetime': '2019-07-15T10:08:36.924Z'}},\n",
       " {'id': 'S2B_MSIL1C_20190715T100039_N0500_R122_T32TQR_20230722T035607.SAFE',\n",
       "  'properties': {'datetime': '2019-07-15T10:08:21.986Z'}},\n",
       " {'id': 'S2A_MSIL1C_20190713T101031_N0500_R022_T32TQQ_20230722T213217.SAFE',\n",
       "  'properties': {'datetime': '2019-07-13T10:18:30.186Z'}},\n",
       " {'id': 'S2A_MSIL1C_20190713T101031_N0500_R022_T32TQR_20230722T213217.SAFE',\n",
       "  'properties': {'datetime': '2019-07-13T10:18:15.632Z'}},\n",
       " {'id': 'S2A_MSIL1C_20190710T100031_N0500_R122_T32TQQ_20230624T125001.SAFE',\n",
       "  'properties': {'datetime': '2019-07-10T10:08:33.244Z'}},\n",
       " {'id': 'S2A_MSIL1C_20190710T100031_N0500_R122_T32TQR_20230624T125001.SAFE',\n",
       "  'properties': {'datetime': '2019-07-10T10:08:18.307Z'}},\n",
       " {'id': 'S2B_MSIL1C_20190708T101039_N0500_R022_T32TQQ_20230721T113735.SAFE',\n",
       "  'properties': {'datetime': '2019-07-08T10:18:33.844Z'}},\n",
       " {'id': 'S2B_MSIL1C_20190708T101039_N0500_R022_T32TQR_20230721T113735.SAFE',\n",
       "  'properties': {'datetime': '2019-07-08T10:18:19.287Z'}},\n",
       " {'id': 'S2B_MSIL1C_20190705T100039_N0500_R122_T32TQQ_20230718T022116.SAFE',\n",
       "  'properties': {'datetime': '2019-07-05T10:08:36.896Z'}},\n",
       " {'id': 'S2B_MSIL1C_20190705T100039_N0500_R122_T32TQR_20230718T022116.SAFE',\n",
       "  'properties': {'datetime': '2019-07-05T10:08:21.961Z'}},\n",
       " {'id': 'S2A_MSIL1C_20190703T101031_N0500_R022_T32TQQ_20230717T022229.SAFE',\n",
       "  'properties': {'datetime': '2019-07-03T10:18:29.92Z'}},\n",
       " {'id': 'S2A_MSIL1C_20190703T101031_N0500_R022_T32TQR_20230717T022229.SAFE',\n",
       "  'properties': {'datetime': '2019-07-03T10:18:15.356Z'}}]"
      ]
     },
     "execution_count": 38,
     "metadata": {},
     "output_type": "execute_result"
    }
   ],
   "source": [
    "# Retrieve images from the Sentinel Hub Catalog for the specified area of interest\n",
    "#  and time interval of July 2019\n",
    "\n",
    "aoi_bbox = BBox(bbox=aoi_coords_wgs84, crs=CRS.WGS84)\n",
    "time_interval = \"2019-07-01\", \"2019-07-31\"\n",
    "\n",
    "search_iterator = catalog.search(\n",
    "    DataCollection.SENTINEL2_L1C,\n",
    "    bbox=aoi_bbox,\n",
    "    time=time_interval,\n",
    "    fields={\"include\": [\"id\", \"properties.datetime\"], \"exclude\": []},\n",
    ")\n",
    "\n",
    "results = list(search_iterator)\n",
    "print(\"Total number of results:\", len(results))\n"
   ]
  },
  {
   "cell_type": "markdown",
   "metadata": {},
   "source": [
    "Check if any of the id's match products listed in LM_centroids.xlxs"
   ]
  },
  {
   "cell_type": "code",
   "execution_count": null,
   "metadata": {},
   "outputs": [
    {
     "name": "stdout",
     "output_type": "stream",
     "text": [
      "Matching IDs: ['S2A_MSIL1C_20190730T100031_N0500_R122_T32TQQ_20230710T202111.SAFE', 'S2A_MSIL1C_20190730T100031_N0500_R122_T32TQR_20230710T202111.SAFE', 'S2B_MSIL1C_20190725T100039_N0500_R122_T32TQQ_20230619T024542.SAFE', 'S2B_MSIL1C_20190725T100039_N0500_R122_T32TQR_20230619T024542.SAFE', 'S2A_MSIL1C_20190723T101031_N0500_R022_T32TQQ_20230718T015529.SAFE', 'S2A_MSIL1C_20190723T101031_N0500_R022_T32TQR_20230718T015529.SAFE', 'S2A_MSIL1C_20190720T100031_N0500_R122_T32TQQ_20230715T235221.SAFE', 'S2A_MSIL1C_20190720T100031_N0500_R122_T32TQR_20230715T235221.SAFE', 'S2B_MSIL1C_20190705T100039_N0500_R122_T32TQQ_20230718T022116.SAFE', 'S2B_MSIL1C_20190705T100039_N0500_R122_T32TQR_20230718T022116.SAFE', 'S2A_MSIL1C_20190703T101031_N0500_R022_T32TQQ_20230717T022229.SAFE', 'S2A_MSIL1C_20190703T101031_N0500_R022_T32TQR_20230717T022229.SAFE']\n"
     ]
    }
   ],
   "source": [
    "# Function to match LW source data to the image ID \n",
    "# by removing S2A_MSIL1C_ from the 'id' and keeping only the datestr and codeT which are\n",
    "# the same as in the LM_centroids.xlsx file i.e. naming convention: \n",
    "# S2A_MSIL1C__YYYYMMDDTXXXXXX_....\n",
    "\n",
    "\n",
    "def check_matching_ids(results, lm_centroids_path):\n",
    "    # Load the LM_centroids.xlsx file\n",
    "    lm_centroids = pd.read_excel(lm_centroids_path)\n",
    "    \n",
    "    # Ensure the column 'Str_time' exists in the Excel file\n",
    "    if 'Str_time' not in lm_centroids.columns:\n",
    "        raise ValueError(\"The column 'Str_time' is not found in the provided Excel file.\")\n",
    "    \n",
    "    # Extract the 'Str_time' column as a set for faster lookup\n",
    "    str_time_set = set(lm_centroids['Str_time'])\n",
    "    \n",
    "    # Iterate through the results and check for matches\n",
    "    matching_ids = []\n",
    "    for result in results:\n",
    "        trimmed_id = result['id'][11:26]\n",
    "        if trimmed_id in str_time_set:\n",
    "            matching_ids.append(result['id'])\n",
    "    \n",
    "    return matching_ids\n",
    "\n",
    "\n",
    "lm_centroids_path = \"../LM_centroids.xlsx\"\n",
    "matching_ids = check_matching_ids(results, lm_centroids_path)\n",
    "print(\"Matching IDs:\", matching_ids)"
   ]
  },
  {
   "cell_type": "code",
   "execution_count": null,
   "metadata": {},
   "outputs": [
    {
     "name": "stdout",
     "output_type": "stream",
     "text": [
      "12 matching images found between 2019-07-01 and 2019-07-31 for Po River Plume.\n"
     ]
    }
   ],
   "source": [
    "print(f\"{len(matching_ids)} matching images found between {time_interval[0]} and {time_interval[1]} for {AOI}.\")"
   ]
  },
  {
   "cell_type": "code",
   "execution_count": null,
   "metadata": {},
   "outputs": [],
   "source": [
    "\n",
    "evalscript_true_color = \"\"\"\n",
    "    //VERSION=3\n",
    "\n",
    "    function setup() {\n",
    "        return {\n",
    "            input: [{\n",
    "                bands: [\"B02\", \"B03\", \"B04\"]\n",
    "            }],\n",
    "            output: {\n",
    "                bands: 11\n",
    "            }\n",
    "        };\n",
    "    }\n",
    "\n",
    "    function evaluatePixel(sample) {\n",
    "        return [sample.B04, sample.B03, sample.B02];\n",
    "    }\n",
    "\"\"\"\n",
    "\n",
    "request_true_color = SentinelHubRequest(\n",
    "    evalscript=evalscript_true_color,\n",
    "    input_data=[\n",
    "        SentinelHubRequest.input_data(\n",
    "            data_collection=DataCollection.SENTINEL2_L1C.define_from(\n",
    "                name=\"s2l1c\", service_url=\"https://sh.dataspace.copernicus.eu\"\n",
    "            ),\n",
    "            time_interval=(\"2019-07-01\", \"2019-07-20\"),\n",
    "            other_args={\"dataFilter\": {\"mosaickingOrder\": \"leastCC\"}},\n",
    "        )\n",
    "    ],\n",
    "    responses=[SentinelHubRequest.output_response(\"default\", MimeType.PNG)],\n",
    "    bbox=aoi_bbox,\n",
    "    size=aoi_size,\n",
    "    config=config,\n",
    ")"
   ]
  },
  {
   "cell_type": "markdown",
   "metadata": {},
   "source": [
    "based on Booth et al. 4 bands were selected:\n",
    "\"The model trained with only 4 bands (the ones contributing to calculating FDI and NDVI) demonstrated good performance than using all 13 Sentinel-2 bands. However, it is possible that other band combinations could improve model performance. Removing some of the lower resolution bands, as well as bands where wavelengths do not correlate with plastic materials, may reduce noise in the data set.\""
   ]
  },
  {
   "cell_type": "code",
   "execution_count": null,
   "metadata": {},
   "outputs": [
    {
     "name": "stdout",
     "output_type": "stream",
     "text": [
      "Generated 12 requests for true color images.\n"
     ]
    }
   ],
   "source": [
    "evalscript_true_color = \"\"\"\n",
    "//VERSION=3\n",
    "\n",
    "function setup() {\n",
    "    return {\n",
    "        input: [{\n",
    "            bands: [\"B04\", \"B06\", \"B08\", \"B11\"] \n",
    "        }],\n",
    "        output: {\n",
    "            bands: 4\n",
    "        }\n",
    "    };\n",
    "}\n",
    "\n",
    "function evaluatePixel(sample) {\n",
    "    return [sample.B04, sample.B06, sample.B08, sample.B11]; // RGB + NIR + SWIR\n",
    "}\n",
    "\"\"\"\n",
    "\n",
    "# Generate requests for each matching ID\n",
    "requests_true_color = []\n",
    "for matching_id in matching_ids:\n",
    "    request = SentinelHubRequest(\n",
    "        evalscript=evalscript_true_color,\n",
    "        input_data=[\n",
    "            SentinelHubRequest.input_data(\n",
    "                data_collection=DataCollection.SENTINEL2_L1C,\n",
    "                identifier=matching_id,\n",
    "            time_interval=time_interval,\n",
    "            other_args={\"dataFilter\": {\"mosaickingOrder\": \"leastCC\"}},\n",
    "            )\n",
    "        ],\n",
    "        responses=[SentinelHubRequest.output_response(\"default\", MimeType.PNG)],\n",
    "        bbox=aoi_bbox,\n",
    "        size=aoi_size,\n",
    "        config=config,\n",
    "    )\n",
    "    requests_true_color.append(request)\n",
    "\n",
    "print(f\"Generated {len(requests_true_color)} requests for true color images.\")"
   ]
  },
  {
   "cell_type": "code",
   "execution_count": null,
   "metadata": {},
   "outputs": [
    {
     "ename": "DownloadFailedException",
     "evalue": "Failed to download from:\nhttps://services.sentinel-hub.com/api/v1/process\nwith HTTPError:\n401 Client Error: Unauthorized for url: https://services.sentinel-hub.com/api/v1/process\nServer response: \"{\"status\": 401, \"reason\": \"Unauthorized\", \"message\": \"You are not authorized! Please provide a valid access token within the header [Authorization: Bearer <accessToken>] of your request.\", \"code\": \"COMMON_UNAUTHORIZED\"}\"",
     "output_type": "error",
     "traceback": [
      "\u001b[31m---------------------------------------------------------------------------\u001b[39m",
      "\u001b[31mHTTPError\u001b[39m                                 Traceback (most recent call last)",
      "\u001b[36mFile \u001b[39m\u001b[32m~/Desktop/projects/plastic_detection/Sentinel2PlasticDetectionProject/omdena/lib/python3.13/site-packages/sentinelhub/download/handlers.py:40\u001b[39m, in \u001b[36mfail_user_errors.<locals>.new_download_func\u001b[39m\u001b[34m(self, request)\u001b[39m\n\u001b[32m     39\u001b[39m \u001b[38;5;28;01mtry\u001b[39;00m:\n\u001b[32m---> \u001b[39m\u001b[32m40\u001b[39m     \u001b[38;5;28;01mreturn\u001b[39;00m \u001b[43mdownload_func\u001b[49m\u001b[43m(\u001b[49m\u001b[38;5;28;43mself\u001b[39;49m\u001b[43m,\u001b[49m\u001b[43m \u001b[49m\u001b[43mrequest\u001b[49m\u001b[43m)\u001b[49m\n\u001b[32m     41\u001b[39m \u001b[38;5;28;01mexcept\u001b[39;00m requests.HTTPError \u001b[38;5;28;01mas\u001b[39;00m exception:\n",
      "\u001b[36mFile \u001b[39m\u001b[32m~/Desktop/projects/plastic_detection/Sentinel2PlasticDetectionProject/omdena/lib/python3.13/site-packages/sentinelhub/download/sentinelhub_client.py:100\u001b[39m, in \u001b[36mSentinelHubDownloadClient._execute_download\u001b[39m\u001b[34m(self, request)\u001b[39m\n\u001b[32m     98\u001b[39m     \u001b[38;5;28;01mcontinue\u001b[39;00m\n\u001b[32m--> \u001b[39m\u001b[32m100\u001b[39m \u001b[43mresponse\u001b[49m\u001b[43m.\u001b[49m\u001b[43mraise_for_status\u001b[49m\u001b[43m(\u001b[49m\u001b[43m)\u001b[49m\n\u001b[32m    102\u001b[39m LOGGER.debug(\u001b[33m\"\u001b[39m\u001b[33mSuccessful \u001b[39m\u001b[38;5;132;01m%s\u001b[39;00m\u001b[33m request to \u001b[39m\u001b[38;5;132;01m%s\u001b[39;00m\u001b[33m\"\u001b[39m, request.request_type.value, request.url)\n",
      "\u001b[36mFile \u001b[39m\u001b[32m~/Desktop/projects/plastic_detection/Sentinel2PlasticDetectionProject/omdena/lib/python3.13/site-packages/requests/models.py:1024\u001b[39m, in \u001b[36mResponse.raise_for_status\u001b[39m\u001b[34m(self)\u001b[39m\n\u001b[32m   1023\u001b[39m \u001b[38;5;28;01mif\u001b[39;00m http_error_msg:\n\u001b[32m-> \u001b[39m\u001b[32m1024\u001b[39m     \u001b[38;5;28;01mraise\u001b[39;00m HTTPError(http_error_msg, response=\u001b[38;5;28mself\u001b[39m)\n",
      "\u001b[31mHTTPError\u001b[39m: 401 Client Error: Unauthorized for url: https://services.sentinel-hub.com/api/v1/process",
      "\nThe above exception was the direct cause of the following exception:\n",
      "\u001b[31mDownloadFailedException\u001b[39m                   Traceback (most recent call last)",
      "\u001b[36mCell\u001b[39m\u001b[36m \u001b[39m\u001b[32mIn[47]\u001b[39m\u001b[32m, line 1\u001b[39m\n\u001b[32m----> \u001b[39m\u001b[32m1\u001b[39m true_color_imgs = \u001b[43mrequests_true_color\u001b[49m\u001b[43m[\u001b[49m\u001b[32;43m0\u001b[39;49m\u001b[43m]\u001b[49m\u001b[43m.\u001b[49m\u001b[43mget_data\u001b[49m\u001b[43m(\u001b[49m\u001b[43m)\u001b[49m\n\u001b[32m      2\u001b[39m \u001b[38;5;28mprint\u001b[39m(\n\u001b[32m      3\u001b[39m     \u001b[33mf\u001b[39m\u001b[33m\"\u001b[39m\u001b[33mReturned data is of type = \u001b[39m\u001b[38;5;132;01m{\u001b[39;00m\u001b[38;5;28mtype\u001b[39m(true_color_imgs)\u001b[38;5;132;01m}\u001b[39;00m\u001b[33m and length \u001b[39m\u001b[38;5;132;01m{\u001b[39;00m\u001b[38;5;28mlen\u001b[39m(true_color_imgs)\u001b[38;5;132;01m}\u001b[39;00m\u001b[33m.\u001b[39m\u001b[33m\"\u001b[39m\n\u001b[32m      4\u001b[39m )\n\u001b[32m      5\u001b[39m \u001b[38;5;28mprint\u001b[39m(\n\u001b[32m      6\u001b[39m     \u001b[33mf\u001b[39m\u001b[33m\"\u001b[39m\u001b[33mSingle element in the list is of type \u001b[39m\u001b[38;5;132;01m{\u001b[39;00m\u001b[38;5;28mtype\u001b[39m(true_color_imgs[-\u001b[32m1\u001b[39m])\u001b[38;5;132;01m}\u001b[39;00m\u001b[33m and has shape \u001b[39m\u001b[38;5;132;01m{\u001b[39;00mtrue_color_imgs[-\u001b[32m1\u001b[39m].shape\u001b[38;5;132;01m}\u001b[39;00m\u001b[33m\"\u001b[39m\n\u001b[32m      7\u001b[39m )\n",
      "\u001b[36mFile \u001b[39m\u001b[32m~/Desktop/projects/plastic_detection/Sentinel2PlasticDetectionProject/omdena/lib/python3.13/site-packages/sentinelhub/base.py:112\u001b[39m, in \u001b[36mDataRequest.get_data\u001b[39m\u001b[34m(self, save_data, redownload, data_filter, max_threads, decode_data, raise_download_errors, show_progress)\u001b[39m\n\u001b[32m     90\u001b[39m \u001b[38;5;250m\u001b[39m\u001b[33;03m\"\"\"Get requested data either by downloading it or by reading it from the disk (if it\u001b[39;00m\n\u001b[32m     91\u001b[39m \u001b[33;03mwas previously downloaded and saved).\u001b[39;00m\n\u001b[32m     92\u001b[39m \n\u001b[32m   (...)\u001b[39m\u001b[32m    109\u001b[39m \u001b[33;03m    shape ``[height, width, channels]``.\u001b[39;00m\n\u001b[32m    110\u001b[39m \u001b[33;03m\"\"\"\u001b[39;00m\n\u001b[32m    111\u001b[39m \u001b[38;5;28mself\u001b[39m._preprocess_request(save_data, \u001b[38;5;28;01mTrue\u001b[39;00m)\n\u001b[32m--> \u001b[39m\u001b[32m112\u001b[39m \u001b[38;5;28;01mreturn\u001b[39;00m \u001b[38;5;28;43mself\u001b[39;49m\u001b[43m.\u001b[49m\u001b[43m_execute_data_download\u001b[49m\u001b[43m(\u001b[49m\n\u001b[32m    113\u001b[39m \u001b[43m    \u001b[49m\u001b[43mdata_filter\u001b[49m\u001b[43m,\u001b[49m\n\u001b[32m    114\u001b[39m \u001b[43m    \u001b[49m\u001b[43mredownload\u001b[49m\u001b[43m,\u001b[49m\n\u001b[32m    115\u001b[39m \u001b[43m    \u001b[49m\u001b[43mmax_threads\u001b[49m\u001b[43m,\u001b[49m\n\u001b[32m    116\u001b[39m \u001b[43m    \u001b[49m\u001b[43mraise_download_errors\u001b[49m\u001b[43m,\u001b[49m\n\u001b[32m    117\u001b[39m \u001b[43m    \u001b[49m\u001b[43mdecode_data\u001b[49m\u001b[43m=\u001b[49m\u001b[43mdecode_data\u001b[49m\u001b[43m,\u001b[49m\n\u001b[32m    118\u001b[39m \u001b[43m    \u001b[49m\u001b[43mshow_progress\u001b[49m\u001b[43m=\u001b[49m\u001b[43mshow_progress\u001b[49m\u001b[43m,\u001b[49m\n\u001b[32m    119\u001b[39m \u001b[43m\u001b[49m\u001b[43m)\u001b[49m\n",
      "\u001b[36mFile \u001b[39m\u001b[32m~/Desktop/projects/plastic_detection/Sentinel2PlasticDetectionProject/omdena/lib/python3.13/site-packages/sentinelhub/base.py:186\u001b[39m, in \u001b[36mDataRequest._execute_data_download\u001b[39m\u001b[34m(self, data_filter, redownload, max_threads, raise_download_errors, decode_data, show_progress)\u001b[39m\n\u001b[32m    181\u001b[39m     \u001b[38;5;28;01mraise\u001b[39;00m \u001b[38;5;167;01mValueError\u001b[39;00m(\u001b[33m\"\u001b[39m\u001b[33mdata_filter parameter must be a list of indices\u001b[39m\u001b[33m\"\u001b[39m)\n\u001b[32m    183\u001b[39m client = \u001b[38;5;28mself\u001b[39m.download_client_class(\n\u001b[32m    184\u001b[39m     redownload=redownload, raise_download_errors=raise_download_errors, config=\u001b[38;5;28mself\u001b[39m.config\n\u001b[32m    185\u001b[39m )\n\u001b[32m--> \u001b[39m\u001b[32m186\u001b[39m data_list = \u001b[43mclient\u001b[49m\u001b[43m.\u001b[49m\u001b[43mdownload\u001b[49m\u001b[43m(\u001b[49m\n\u001b[32m    187\u001b[39m \u001b[43m    \u001b[49m\u001b[43mfiltered_download_list\u001b[49m\u001b[43m,\u001b[49m\u001b[43m \u001b[49m\u001b[43mmax_threads\u001b[49m\u001b[43m=\u001b[49m\u001b[43mmax_threads\u001b[49m\u001b[43m,\u001b[49m\u001b[43m \u001b[49m\u001b[43mdecode_data\u001b[49m\u001b[43m=\u001b[49m\u001b[43mdecode_data\u001b[49m\u001b[43m,\u001b[49m\u001b[43m \u001b[49m\u001b[43mshow_progress\u001b[49m\u001b[43m=\u001b[49m\u001b[43mshow_progress\u001b[49m\n\u001b[32m    188\u001b[39m \u001b[43m\u001b[49m\u001b[43m)\u001b[49m\n\u001b[32m    190\u001b[39m \u001b[38;5;28;01mif\u001b[39;00m is_repeating_filter:\n\u001b[32m    191\u001b[39m     data_list = [copy.deepcopy(data_list[index]) \u001b[38;5;28;01mfor\u001b[39;00m index \u001b[38;5;129;01min\u001b[39;00m mapping_list]\n",
      "\u001b[36mFile \u001b[39m\u001b[32m~/Desktop/projects/plastic_detection/Sentinel2PlasticDetectionProject/omdena/lib/python3.13/site-packages/sentinelhub/download/sentinelhub_client.py:68\u001b[39m, in \u001b[36mSentinelHubDownloadClient.download\u001b[39m\u001b[34m(self, *args, **kwargs)\u001b[39m\n\u001b[32m     66\u001b[39m \u001b[38;5;28mself\u001b[39m.lock = Lock()\n\u001b[32m     67\u001b[39m \u001b[38;5;28;01mtry\u001b[39;00m:\n\u001b[32m---> \u001b[39m\u001b[32m68\u001b[39m     \u001b[38;5;28;01mreturn\u001b[39;00m \u001b[38;5;28;43msuper\u001b[39;49m\u001b[43m(\u001b[49m\u001b[43m)\u001b[49m\u001b[43m.\u001b[49m\u001b[43mdownload\u001b[49m\u001b[43m(\u001b[49m\u001b[43m*\u001b[49m\u001b[43margs\u001b[49m\u001b[43m,\u001b[49m\u001b[43m \u001b[49m\u001b[43m*\u001b[49m\u001b[43m*\u001b[49m\u001b[43mkwargs\u001b[49m\u001b[43m)\u001b[49m\n\u001b[32m     69\u001b[39m \u001b[38;5;28;01mfinally\u001b[39;00m:\n\u001b[32m     70\u001b[39m     \u001b[38;5;28mself\u001b[39m.lock = \u001b[38;5;28;01mNone\u001b[39;00m\n",
      "\u001b[36mFile \u001b[39m\u001b[32m~/Desktop/projects/plastic_detection/Sentinel2PlasticDetectionProject/omdena/lib/python3.13/site-packages/sentinelhub/download/client.py:103\u001b[39m, in \u001b[36mDownloadClient.download\u001b[39m\u001b[34m(self, download_requests, max_threads, decode_data, show_progress)\u001b[39m\n\u001b[32m    101\u001b[39m \u001b[38;5;28;01mexcept\u001b[39;00m DownloadFailedException \u001b[38;5;28;01mas\u001b[39;00m download_exception:\n\u001b[32m    102\u001b[39m     \u001b[38;5;28;01mif\u001b[39;00m \u001b[38;5;28mself\u001b[39m.raise_download_errors:\n\u001b[32m--> \u001b[39m\u001b[32m103\u001b[39m         \u001b[38;5;28;01mraise\u001b[39;00m download_exception\n\u001b[32m    105\u001b[39m     warnings.warn(\u001b[38;5;28mstr\u001b[39m(download_exception), category=SHRuntimeWarning)\n\u001b[32m    107\u001b[39m \u001b[38;5;28;01mif\u001b[39;00m progress_bar:\n",
      "\u001b[36mFile \u001b[39m\u001b[32m~/Desktop/projects/plastic_detection/Sentinel2PlasticDetectionProject/omdena/lib/python3.13/site-packages/sentinelhub/download/client.py:100\u001b[39m, in \u001b[36mDownloadClient.download\u001b[39m\u001b[34m(self, download_requests, max_threads, decode_data, show_progress)\u001b[39m\n\u001b[32m     98\u001b[39m \u001b[38;5;28;01mfor\u001b[39;00m future \u001b[38;5;129;01min\u001b[39;00m as_completed(download_list):\n\u001b[32m     99\u001b[39m     \u001b[38;5;28;01mtry\u001b[39;00m:\n\u001b[32m--> \u001b[39m\u001b[32m100\u001b[39m         results[future_order[future]] = \u001b[43mfuture\u001b[49m\u001b[43m.\u001b[49m\u001b[43mresult\u001b[49m\u001b[43m(\u001b[49m\u001b[43m)\u001b[49m\n\u001b[32m    101\u001b[39m     \u001b[38;5;28;01mexcept\u001b[39;00m DownloadFailedException \u001b[38;5;28;01mas\u001b[39;00m download_exception:\n\u001b[32m    102\u001b[39m         \u001b[38;5;28;01mif\u001b[39;00m \u001b[38;5;28mself\u001b[39m.raise_download_errors:\n",
      "\u001b[36mFile \u001b[39m\u001b[32m/opt/homebrew/Cellar/python@3.13/3.13.1/Frameworks/Python.framework/Versions/3.13/lib/python3.13/concurrent/futures/_base.py:449\u001b[39m, in \u001b[36mFuture.result\u001b[39m\u001b[34m(self, timeout)\u001b[39m\n\u001b[32m    447\u001b[39m     \u001b[38;5;28;01mraise\u001b[39;00m CancelledError()\n\u001b[32m    448\u001b[39m \u001b[38;5;28;01melif\u001b[39;00m \u001b[38;5;28mself\u001b[39m._state == FINISHED:\n\u001b[32m--> \u001b[39m\u001b[32m449\u001b[39m     \u001b[38;5;28;01mreturn\u001b[39;00m \u001b[38;5;28;43mself\u001b[39;49m\u001b[43m.\u001b[49m\u001b[43m__get_result\u001b[49m\u001b[43m(\u001b[49m\u001b[43m)\u001b[49m\n\u001b[32m    451\u001b[39m \u001b[38;5;28mself\u001b[39m._condition.wait(timeout)\n\u001b[32m    453\u001b[39m \u001b[38;5;28;01mif\u001b[39;00m \u001b[38;5;28mself\u001b[39m._state \u001b[38;5;129;01min\u001b[39;00m [CANCELLED, CANCELLED_AND_NOTIFIED]:\n",
      "\u001b[36mFile \u001b[39m\u001b[32m/opt/homebrew/Cellar/python@3.13/3.13.1/Frameworks/Python.framework/Versions/3.13/lib/python3.13/concurrent/futures/_base.py:401\u001b[39m, in \u001b[36mFuture.__get_result\u001b[39m\u001b[34m(self)\u001b[39m\n\u001b[32m    399\u001b[39m \u001b[38;5;28;01mif\u001b[39;00m \u001b[38;5;28mself\u001b[39m._exception:\n\u001b[32m    400\u001b[39m     \u001b[38;5;28;01mtry\u001b[39;00m:\n\u001b[32m--> \u001b[39m\u001b[32m401\u001b[39m         \u001b[38;5;28;01mraise\u001b[39;00m \u001b[38;5;28mself\u001b[39m._exception\n\u001b[32m    402\u001b[39m     \u001b[38;5;28;01mfinally\u001b[39;00m:\n\u001b[32m    403\u001b[39m         \u001b[38;5;66;03m# Break a reference cycle with the exception in self._exception\u001b[39;00m\n\u001b[32m    404\u001b[39m         \u001b[38;5;28mself\u001b[39m = \u001b[38;5;28;01mNone\u001b[39;00m\n",
      "\u001b[36mFile \u001b[39m\u001b[32m/opt/homebrew/Cellar/python@3.13/3.13.1/Frameworks/Python.framework/Versions/3.13/lib/python3.13/concurrent/futures/thread.py:59\u001b[39m, in \u001b[36m_WorkItem.run\u001b[39m\u001b[34m(self)\u001b[39m\n\u001b[32m     56\u001b[39m     \u001b[38;5;28;01mreturn\u001b[39;00m\n\u001b[32m     58\u001b[39m \u001b[38;5;28;01mtry\u001b[39;00m:\n\u001b[32m---> \u001b[39m\u001b[32m59\u001b[39m     result = \u001b[38;5;28;43mself\u001b[39;49m\u001b[43m.\u001b[49m\u001b[43mfn\u001b[49m\u001b[43m(\u001b[49m\u001b[43m*\u001b[49m\u001b[38;5;28;43mself\u001b[39;49m\u001b[43m.\u001b[49m\u001b[43margs\u001b[49m\u001b[43m,\u001b[49m\u001b[43m \u001b[49m\u001b[43m*\u001b[49m\u001b[43m*\u001b[49m\u001b[38;5;28;43mself\u001b[39;49m\u001b[43m.\u001b[49m\u001b[43mkwargs\u001b[49m\u001b[43m)\u001b[49m\n\u001b[32m     60\u001b[39m \u001b[38;5;28;01mexcept\u001b[39;00m \u001b[38;5;167;01mBaseException\u001b[39;00m \u001b[38;5;28;01mas\u001b[39;00m exc:\n\u001b[32m     61\u001b[39m     \u001b[38;5;28mself\u001b[39m.future.set_exception(exc)\n",
      "\u001b[36mFile \u001b[39m\u001b[32m~/Desktop/projects/plastic_detection/Sentinel2PlasticDetectionProject/omdena/lib/python3.13/site-packages/sentinelhub/download/client.py:116\u001b[39m, in \u001b[36mDownloadClient._single_download_decoded\u001b[39m\u001b[34m(self, request)\u001b[39m\n\u001b[32m    114\u001b[39m \u001b[38;5;28;01mdef\u001b[39;00m\u001b[38;5;250m \u001b[39m\u001b[34m_single_download_decoded\u001b[39m(\u001b[38;5;28mself\u001b[39m, request: DownloadRequest) -> Any:\n\u001b[32m    115\u001b[39m \u001b[38;5;250m    \u001b[39m\u001b[33;03m\"\"\"Downloads a response and decodes it into data. By decoding a single response\"\"\"\u001b[39;00m\n\u001b[32m--> \u001b[39m\u001b[32m116\u001b[39m     response = \u001b[38;5;28;43mself\u001b[39;49m\u001b[43m.\u001b[49m\u001b[43m_single_download\u001b[49m\u001b[43m(\u001b[49m\u001b[43mrequest\u001b[49m\u001b[43m)\u001b[49m\n\u001b[32m    117\u001b[39m     \u001b[38;5;28;01mreturn\u001b[39;00m \u001b[38;5;28;01mNone\u001b[39;00m \u001b[38;5;28;01mif\u001b[39;00m response \u001b[38;5;129;01mis\u001b[39;00m \u001b[38;5;28;01mNone\u001b[39;00m \u001b[38;5;28;01melse\u001b[39;00m response.decode()\n",
      "\u001b[36mFile \u001b[39m\u001b[32m~/Desktop/projects/plastic_detection/Sentinel2PlasticDetectionProject/omdena/lib/python3.13/site-packages/sentinelhub/download/client.py:129\u001b[39m, in \u001b[36mDownloadClient._single_download\u001b[39m\u001b[34m(self, request)\u001b[39m\n\u001b[32m    127\u001b[39m no_local_data = \u001b[38;5;28mself\u001b[39m.redownload \u001b[38;5;129;01mor\u001b[39;00m response_path \u001b[38;5;129;01mis\u001b[39;00m \u001b[38;5;28;01mNone\u001b[39;00m \u001b[38;5;129;01mor\u001b[39;00m \u001b[38;5;129;01mnot\u001b[39;00m os.path.exists(response_path)\n\u001b[32m    128\u001b[39m \u001b[38;5;28;01mif\u001b[39;00m no_local_data:\n\u001b[32m--> \u001b[39m\u001b[32m129\u001b[39m     response = \u001b[38;5;28;43mself\u001b[39;49m\u001b[43m.\u001b[49m\u001b[43m_execute_download\u001b[49m\u001b[43m(\u001b[49m\u001b[43mrequest\u001b[49m\u001b[43m)\u001b[49m\n\u001b[32m    130\u001b[39m \u001b[38;5;28;01melse\u001b[39;00m:\n\u001b[32m    131\u001b[39m     \u001b[38;5;28;01mif\u001b[39;00m \u001b[38;5;129;01mnot\u001b[39;00m request.return_data \u001b[38;5;129;01mor\u001b[39;00m response_path \u001b[38;5;129;01mis\u001b[39;00m \u001b[38;5;28;01mNone\u001b[39;00m:\n",
      "\u001b[36mFile \u001b[39m\u001b[32m~/Desktop/projects/plastic_detection/Sentinel2PlasticDetectionProject/omdena/lib/python3.13/site-packages/sentinelhub/download/handlers.py:67\u001b[39m, in \u001b[36mretry_temporary_errors.<locals>.new_download_func\u001b[39m\u001b[34m(self, request)\u001b[39m\n\u001b[32m     65\u001b[39m \u001b[38;5;28;01mfor\u001b[39;00m attempt_idx \u001b[38;5;129;01min\u001b[39;00m \u001b[38;5;28mrange\u001b[39m(download_attempts):\n\u001b[32m     66\u001b[39m     \u001b[38;5;28;01mtry\u001b[39;00m:\n\u001b[32m---> \u001b[39m\u001b[32m67\u001b[39m         \u001b[38;5;28;01mreturn\u001b[39;00m \u001b[43mdownload_func\u001b[49m\u001b[43m(\u001b[49m\u001b[38;5;28;43mself\u001b[39;49m\u001b[43m,\u001b[49m\u001b[43m \u001b[49m\u001b[43mrequest\u001b[49m\u001b[43m)\u001b[49m\n\u001b[32m     69\u001b[39m     \u001b[38;5;28;01mexcept\u001b[39;00m requests.RequestException \u001b[38;5;28;01mas\u001b[39;00m exception:  \u001b[38;5;66;03m# noqa: PERF203\u001b[39;00m\n\u001b[32m     70\u001b[39m         attempts_left = download_attempts - (attempt_idx + \u001b[32m1\u001b[39m)\n",
      "\u001b[36mFile \u001b[39m\u001b[32m~/Desktop/projects/plastic_detection/Sentinel2PlasticDetectionProject/omdena/lib/python3.13/site-packages/sentinelhub/download/handlers.py:46\u001b[39m, in \u001b[36mfail_user_errors.<locals>.new_download_func\u001b[39m\u001b[34m(self, request)\u001b[39m\n\u001b[32m     41\u001b[39m \u001b[38;5;28;01mexcept\u001b[39;00m requests.HTTPError \u001b[38;5;28;01mas\u001b[39;00m exception:\n\u001b[32m     42\u001b[39m     \u001b[38;5;28;01mif\u001b[39;00m (\n\u001b[32m     43\u001b[39m         exception.response.status_code < requests.status_codes.codes.INTERNAL_SERVER_ERROR\n\u001b[32m     44\u001b[39m         \u001b[38;5;129;01mand\u001b[39;00m exception.response.status_code != requests.status_codes.codes.TOO_MANY_REQUESTS\n\u001b[32m     45\u001b[39m     ):\n\u001b[32m---> \u001b[39m\u001b[32m46\u001b[39m         \u001b[38;5;28;01mraise\u001b[39;00m DownloadFailedException(\n\u001b[32m     47\u001b[39m             _create_download_failed_message(exception, request.url), request_exception=exception\n\u001b[32m     48\u001b[39m         ) \u001b[38;5;28;01mfrom\u001b[39;00m\u001b[38;5;250m \u001b[39m\u001b[34;01mexception\u001b[39;00m\n\u001b[32m     49\u001b[39m     \u001b[38;5;28;01mraise\u001b[39;00m exception \u001b[38;5;28;01mfrom\u001b[39;00m\u001b[38;5;250m \u001b[39m\u001b[34;01mexception\u001b[39;00m\n",
      "\u001b[31mDownloadFailedException\u001b[39m: Failed to download from:\nhttps://services.sentinel-hub.com/api/v1/process\nwith HTTPError:\n401 Client Error: Unauthorized for url: https://services.sentinel-hub.com/api/v1/process\nServer response: \"{\"status\": 401, \"reason\": \"Unauthorized\", \"message\": \"You are not authorized! Please provide a valid access token within the header [Authorization: Bearer <accessToken>] of your request.\", \"code\": \"COMMON_UNAUTHORIZED\"}\""
     ]
    }
   ],
   "source": [
    "true_color_imgs = requests_true_color[0].get_data()\n",
    "print(\n",
    "    f\"Returned data is of type = {type(true_color_imgs)} and length {len(true_color_imgs)}.\"\n",
    ")\n",
    "print(\n",
    "    f\"Single element in the list is of type {type(true_color_imgs[-1])} and has shape {true_color_imgs[-1].shape}\"\n",
    ")"
   ]
  },
  {
   "cell_type": "code",
   "execution_count": null,
   "metadata": {},
   "outputs": [],
   "source": [
    "image = true_color_imgs[0]\n",
    "print(f\"Image type: {image.dtype}\")\n",
    "\n",
    "# plot function\n",
    "# factor 1/255 to scale between 0-1\n",
    "# factor 3.5 to increase brightness\n",
    "plot_image(image, factor=3.5 / 255, clip_range=(0, 1))"
   ]
  },
  {
   "cell_type": "markdown",
   "metadata": {},
   "source": [
    "Other Areas next (and other time periods tbd):"
   ]
  },
  {
   "cell_type": "code",
   "execution_count": null,
   "metadata": {},
   "outputs": [],
   "source": [
    "AOI = 'North Corsica'\n",
    "aoi_coords_wgs84 = [9.288940,43.012681,9.481888,43.119530] "
   ]
  },
  {
   "cell_type": "code",
   "execution_count": null,
   "metadata": {},
   "outputs": [],
   "source": []
  },
  {
   "cell_type": "code",
   "execution_count": null,
   "metadata": {},
   "outputs": [],
   "source": [
    "Optional AOI #3:\n",
    "South East Calabria\n",
    "(16 38.75, 16 37.75, 17 37.75, 17 38.75, 16 38.75)"
   ]
  }
 ],
 "metadata": {
  "kernelspec": {
   "display_name": "omdena",
   "language": "python",
   "name": "python3"
  },
  "language_info": {
   "codemirror_mode": {
    "name": "ipython",
    "version": 3
   },
   "file_extension": ".py",
   "mimetype": "text/x-python",
   "name": "python",
   "nbconvert_exporter": "python",
   "pygments_lexer": "ipython3",
   "version": "3.13.1"
  }
 },
 "nbformat": 4,
 "nbformat_minor": 2
}
