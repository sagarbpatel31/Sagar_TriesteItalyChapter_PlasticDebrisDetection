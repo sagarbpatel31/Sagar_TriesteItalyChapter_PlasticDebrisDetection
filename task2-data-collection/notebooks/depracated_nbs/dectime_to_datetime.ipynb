{
 "cells": [
  {
   "cell_type": "markdown",
   "metadata": {},
   "source": [
    "## converting LW spreadsheet dectime to a datetime object for matching CodeT in the product name\n",
    "The dectime (decimal year) value in the LW_centeroids file does not match the CodeT timestamp for most entries\n",
    "A function was created to include an offset of 1:00:12, which however is not the same offset for every instance (varies between +- 5 mins to approx. + 1 hour, unsure why, possible due to an excel function calculating * 356.25 instead of exact days in years from gregorian)"
   ]
  },
  {
   "cell_type": "code",
   "execution_count": 1,
   "metadata": {},
   "outputs": [
    {
     "name": "stdout",
     "output_type": "stream",
     "text": [
      "2017-07-03 08:30:11\n",
      "2017-07-03 08:30:11\n"
     ]
    }
   ],
   "source": [
    "from utils.dectime_conversion import DectimeConversion as dc\n",
    "\n",
    "date = dc.dectime_to_date(2017.502226)\n",
    "print(date)\n",
    "date = dc.dectime_to_date(2017,502226)\n",
    "print(date)"
   ]
  },
  {
   "cell_type": "markdown",
   "metadata": {},
   "source": [
    "testing on various unique dec_string values for July 2019"
   ]
  },
  {
   "cell_type": "code",
   "execution_count": 2,
   "metadata": {},
   "outputs": [],
   "source": [
    "times = [ \n",
    "         2019.576371,2019.559791,2019.546196,2019.546092,2019.532394,2019.53537,\n",
    "         2019.554434,2019.576267,2019.507774,2019.513235,2019.527132,2019.507973,\n",
    "         2019.579054,2019.502417,2019.557212,2019.573688,2019.527037,2019.56545,\n",
    "         2019.49964,2019.538053,2019.562672,2019.507878,2019.548974, 2019.540736,\n",
    "         ]\n"
   ]
  },
  {
   "cell_type": "code",
   "execution_count": 3,
   "metadata": {},
   "outputs": [
    {
     "name": "stdout",
     "output_type": "stream",
     "text": [
      "2019-07-30 09:00:35.856003\n",
      "2019-07-24 07:46:08.975997\n",
      "2019-07-19 08:40:37.056000\n",
      "2019-07-19 07:45:57.312001\n",
      "2019-07-14 07:46:17.184002\n",
      "2019-07-15 09:50:28.320002\n",
      "2019-07-22 08:50:30.623997\n",
      "2019-07-30 08:05:56.111997\n",
      "2019-07-05 08:06:00.863998\n",
      "2019-07-07 07:56:18.959997\n",
      "2019-07-12 09:40:34.751998\n",
      "2019-07-05 09:50:36.528000\n",
      "2019-07-31 08:30:46.944001\n",
      "2019-07-03 09:10:22.511998\n",
      "2019-07-23 09:10:37.631998\n",
      "2019-07-29 09:30:24.767998\n",
      "2019-07-12 08:50:38.832002\n",
      "2019-07-26 09:20:31.200002\n",
      "2019-07-02 08:50:47.040000\n",
      "2019-07-16 09:20:39.408000\n",
      "2019-07-25 09:00:24.192001\n",
      "2019-07-05 09:00:40.607997\n",
      "2019-07-20 09:00:44.064001\n",
      "2019-07-17 08:50:50.495998\n"
     ]
    }
   ],
   "source": [
    "# without offset\n",
    "from utils.dectime_conversion import DecimalTimeConversion as dc\n",
    "for t in times:\n",
    "    date = dc.convert_dectime_to_date(t)\n",
    "    print(date)\n"
   ]
  },
  {
   "cell_type": "code",
   "execution_count": 4,
   "metadata": {},
   "outputs": [
    {
     "name": "stdout",
     "output_type": "stream",
     "text": [
      "2019-07-30 10:00:47\n",
      "2019-07-24 08:46:20\n",
      "2019-07-19 09:40:49\n",
      "2019-07-19 08:46:09\n",
      "2019-07-14 08:46:29\n",
      "2019-07-15 10:50:40\n",
      "2019-07-22 09:50:42\n",
      "2019-07-30 09:06:08\n",
      "2019-07-05 09:06:12\n",
      "2019-07-07 08:56:30\n",
      "2019-07-12 10:40:46\n",
      "2019-07-05 10:50:48\n",
      "2019-07-31 09:30:58\n",
      "2019-07-03 10:10:34\n",
      "2019-07-23 10:10:49\n",
      "2019-07-29 10:30:36\n",
      "2019-07-12 09:50:50\n",
      "2019-07-26 10:20:43\n",
      "2019-07-02 09:50:59\n",
      "2019-07-16 10:20:51\n",
      "2019-07-25 10:00:36\n",
      "2019-07-05 10:00:52\n",
      "2019-07-20 10:00:56\n",
      "2019-07-17 09:51:02\n"
     ]
    }
   ],
   "source": [
    "from utils.dectime_conversion_offset import DecimalTimeConversionOS as dcos\n",
    "for t in times:\n",
    "        date=dcos.dectime_to_date(t)\n",
    "        print(date)"
   ]
  }
 ],
 "metadata": {
  "kernelspec": {
   "display_name": "omdena",
   "language": "python",
   "name": "python3"
  },
  "language_info": {
   "codemirror_mode": {
    "name": "ipython",
    "version": 3
   },
   "file_extension": ".py",
   "mimetype": "text/x-python",
   "name": "python",
   "nbconvert_exporter": "python",
   "pygments_lexer": "ipython3",
   "version": "3.13.1"
  }
 },
 "nbformat": 4,
 "nbformat_minor": 2
}
